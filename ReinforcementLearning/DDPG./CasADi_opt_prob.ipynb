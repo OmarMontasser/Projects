{
 "cells": [
  {
   "cell_type": "code",
   "execution_count": 2,
   "id": "b0423b50-4db3-49f1-9527-3aaa43187c70",
   "metadata": {},
   "outputs": [
    {
     "name": "stdout",
     "output_type": "stream",
     "text": [
      "\n",
      "******************************************************************************\n",
      "This program contains Ipopt, a library for large-scale nonlinear optimization.\n",
      " Ipopt is released as open source code under the Eclipse Public License (EPL).\n",
      "         For more information visit https://github.com/coin-or/Ipopt\n",
      "******************************************************************************\n",
      "\n",
      "This is Ipopt version 3.14.11, running with linear solver MUMPS 5.4.1.\n",
      "\n",
      "Number of nonzeros in equality constraint Jacobian...:        0\n",
      "Number of nonzeros in inequality constraint Jacobian.:        0\n",
      "Number of nonzeros in Lagrangian Hessian.............:        3\n",
      "\n",
      "Total number of variables............................:        2\n",
      "                     variables with only lower bounds:        0\n",
      "                variables with lower and upper bounds:        0\n",
      "                     variables with only upper bounds:        0\n",
      "Total number of equality constraints.................:        0\n",
      "Total number of inequality constraints...............:        0\n",
      "        inequality constraints with only lower bounds:        0\n",
      "   inequality constraints with lower and upper bounds:        0\n",
      "        inequality constraints with only upper bounds:        0\n",
      "\n",
      "iter    objective    inf_pr   inf_du lg(mu)  ||d||  lg(rg) alpha_du alpha_pr  ls\n",
      "   0  0.0000000e+00 0.00e+00 4.00e+00  -1.0 0.00e+00    -  0.00e+00 0.00e+00   0\n",
      "   1 -1.0000000e+00 0.00e+00 0.00e+00  -1.0 2.50e-01    -  1.00e+00 1.00e+00f  1\n",
      "\n",
      "Number of Iterations....: 1\n",
      "\n",
      "                                   (scaled)                 (unscaled)\n",
      "Objective...............:  -1.0000000000000000e+00   -1.0000000000000000e+00\n",
      "Dual infeasibility......:   0.0000000000000000e+00    0.0000000000000000e+00\n",
      "Constraint violation....:   0.0000000000000000e+00    0.0000000000000000e+00\n",
      "Variable bound violation:   0.0000000000000000e+00    0.0000000000000000e+00\n",
      "Complementarity.........:   0.0000000000000000e+00    0.0000000000000000e+00\n",
      "Overall NLP error.......:   0.0000000000000000e+00    0.0000000000000000e+00\n",
      "\n",
      "\n",
      "Number of objective function evaluations             = 2\n",
      "Number of objective gradient evaluations             = 2\n",
      "Number of equality constraint evaluations            = 0\n",
      "Number of inequality constraint evaluations          = 0\n",
      "Number of equality constraint Jacobian evaluations   = 0\n",
      "Number of inequality constraint Jacobian evaluations = 0\n",
      "Number of Lagrangian Hessian evaluations             = 1\n",
      "Total seconds in IPOPT                               = 0.016\n",
      "\n",
      "EXIT: Optimal Solution Found.\n",
      "      solver  :   t_proc      (avg)   t_wall      (avg)    n_eval\n",
      "       nlp_f  |        0 (       0)  14.00us (  7.00us)         2\n",
      "  nlp_grad_f  |   8.00ms (  2.67ms) 206.00us ( 68.67us)         3\n",
      "  nlp_hess_l  |        0 (       0) 240.00us (240.00us)         1\n",
      "       total  |  16.00ms ( 16.00ms)  20.52ms ( 20.52ms)         1\n",
      "Optimal x:\n",
      " [0.25, -0.25]\n"
     ]
    }
   ],
   "source": [
    "import casadi as ca\n",
    "\n",
    "# 1. Define optimization variable (2x1 vector)\n",
    "x = ca.MX.sym('x', 2)\n",
    "\n",
    "# 2. Define Q (symmetric positive semi-definite) and c\n",
    "Q = ca.DM([[10, -6],\n",
    "           [-6, 10]])\n",
    "c = ca.DM([-4, 4])\n",
    "\n",
    "# 3. Define the objective function: 0.5 * x.T * Q * x + c.T * x\n",
    "objective = 0.5 * ca.mtimes([x.T, Q, x]) + ca.mtimes(c.T, x)\n",
    "\n",
    "# 4. Set up the NLP (no constraints)\n",
    "nlp = {'x': x, 'f': objective}\n",
    "\n",
    "# 5. Create solver\n",
    "solver = ca.nlpsol('solver', 'ipopt', nlp)\n",
    "\n",
    "# 6. Solve (initial guess x0 = [0, 0])\n",
    "sol = solver(x0=[0, 0])\n",
    "\n",
    "# 7. Extract and print solution\n",
    "x_opt = sol['x']\n",
    "print(\"Optimal x:\\n\", x_opt)\n"
   ]
  },
  {
   "cell_type": "code",
   "execution_count": null,
   "id": "eaf3aa7a-5c20-47b5-af9e-2adf1d8b75d8",
   "metadata": {},
   "outputs": [],
   "source": []
  }
 ],
 "metadata": {
  "kernelspec": {
   "display_name": "Python (lunarlander)",
   "language": "python",
   "name": "lunarlander"
  },
  "language_info": {
   "codemirror_mode": {
    "name": "ipython",
    "version": 3
   },
   "file_extension": ".py",
   "mimetype": "text/x-python",
   "name": "python",
   "nbconvert_exporter": "python",
   "pygments_lexer": "ipython3",
   "version": "3.9.21"
  }
 },
 "nbformat": 4,
 "nbformat_minor": 5
}
